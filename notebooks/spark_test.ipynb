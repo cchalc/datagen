{
 "cells": [
  {
   "cell_type": "code",
   "execution_count": 1,
   "metadata": {},
   "outputs": [],
   "source": [
    "import requests\n",
    "import pyspark\n",
    "from pyspark.sql import SparkSession"
   ]
  },
  {
   "cell_type": "code",
   "execution_count": 3,
   "metadata": {},
   "outputs": [
    {
     "name": "stderr",
     "output_type": "stream",
     "text": [
      "22/11/06 01:28:15 WARN NativeCodeLoader: Unable to load native-hadoop library for your platform... using builtin-java classes where applicable\n",
      "Using Spark's default log4j profile: org/apache/spark/log4j-defaults.properties\n",
      "Setting default log level to \"WARN\".\n",
      "To adjust logging level use sc.setLogLevel(newLevel). For SparkR, use setLogLevel(newLevel).\n",
      "22/11/06 01:28:16 WARN MetricsSystem: Using default name SparkStatusTracker for source because neither spark.metrics.namespace nor spark.app.id is set.\n"
     ]
    }
   ],
   "source": [
    "spark = SparkSession.builder.getOrCreate()"
   ]
  },
  {
   "cell_type": "code",
   "execution_count": 6,
   "metadata": {},
   "outputs": [
    {
     "name": "stderr",
     "output_type": "stream",
     "text": [
      "22/11/06 01:29:09 ERROR SparkClientManager: Fail to get the SparkClient\n",
      "java.util.concurrent.ExecutionException: org.apache.http.client.HttpResponseException: status code: 400, reason phrase: {\"error_code\":\"INVALID_PARAMETER_VALUE\",\"message\":\"Cluster 0722-070458-t24q3fgi does not exist\"}\n",
      "\tat org.sparkproject.guava.util.concurrent.AbstractFuture$Sync.getValue(AbstractFuture.java:299)\n",
      "\tat org.sparkproject.guava.util.concurrent.AbstractFuture$Sync.get(AbstractFuture.java:286)\n",
      "\tat org.sparkproject.guava.util.concurrent.AbstractFuture.get(AbstractFuture.java:116)\n",
      "\tat org.sparkproject.guava.util.concurrent.Uninterruptibles.getUninterruptibly(Uninterruptibles.java:135)\n",
      "\tat org.sparkproject.guava.cache.LocalCache$Segment.getAndRecordStats(LocalCache.java:2344)\n",
      "\tat org.sparkproject.guava.cache.LocalCache$Segment.loadSync(LocalCache.java:2316)\n",
      "\tat org.sparkproject.guava.cache.LocalCache$Segment.lockedGetOrLoad(LocalCache.java:2278)\n",
      "\tat org.sparkproject.guava.cache.LocalCache$Segment.get(LocalCache.java:2193)\n",
      "\tat org.sparkproject.guava.cache.LocalCache.get(LocalCache.java:3932)\n",
      "\tat org.sparkproject.guava.cache.LocalCache$LocalManualCache.get(LocalCache.java:4721)\n",
      "\tat com.databricks.service.SparkClientManager.liftedTree1$1(SparkClient.scala:377)\n",
      "\tat com.databricks.service.SparkClientManager.getForSession(SparkClient.scala:376)\n",
      "\tat com.databricks.service.SparkClientManager.getForSession$(SparkClient.scala:353)\n",
      "\tat com.databricks.service.SparkClientManager$.getForSession(SparkClient.scala:401)\n",
      "\tat org.apache.spark.sql.DataFrameReader.load(DataFrameReader.scala:292)\n",
      "\tat org.apache.spark.sql.DataFrameReader.json(DataFrameReader.scala:490)\n",
      "\tat sun.reflect.NativeMethodAccessorImpl.invoke0(Native Method)\n",
      "\tat sun.reflect.NativeMethodAccessorImpl.invoke(NativeMethodAccessorImpl.java:62)\n",
      "\tat sun.reflect.DelegatingMethodAccessorImpl.invoke(DelegatingMethodAccessorImpl.java:43)\n",
      "\tat java.lang.reflect.Method.invoke(Method.java:498)\n",
      "\tat py4j.reflection.MethodInvoker.invoke(MethodInvoker.java:244)\n",
      "\tat py4j.reflection.ReflectionEngine.invoke(ReflectionEngine.java:380)\n",
      "\tat py4j.Gateway.invoke(Gateway.java:295)\n",
      "\tat py4j.commands.AbstractCommand.invokeMethod(AbstractCommand.java:132)\n",
      "\tat py4j.commands.CallCommand.execute(CallCommand.java:79)\n",
      "\tat py4j.ClientServerConnection.waitForCommands(ClientServerConnection.java:195)\n",
      "\tat py4j.ClientServerConnection.run(ClientServerConnection.java:115)\n",
      "\tat java.lang.Thread.run(Thread.java:750)\n",
      "Caused by: org.apache.http.client.HttpResponseException: status code: 400, reason phrase: {\"error_code\":\"INVALID_PARAMETER_VALUE\",\"message\":\"Cluster 0722-070458-t24q3fgi does not exist\"}\n",
      "\tat com.databricks.service.DBAPIClient.get(DBAPIClient.scala:101)\n",
      "\tat com.databricks.service.DBAPIClient.jsonGet(DBAPIClient.scala:125)\n",
      "\tat com.databricks.service.SparkServiceDebugHelper$.getClusterWithValidation(SparkServiceDebugHelper.scala:163)\n",
      "\tat com.databricks.service.SparkServiceRPCClient.waitUntilClusterRunning(SparkServiceRPCClient.scala:162)\n",
      "\tat com.databricks.service.SparkServiceRPCClient.init(SparkServiceRPCClient.scala:143)\n",
      "\tat com.databricks.service.SparkServiceRPCClientStub.<init>(SparkServiceRPCClientStub.scala:134)\n",
      "\tat com.databricks.service.SparkServiceRPCClient.<init>(SparkServiceRPCClient.scala:57)\n",
      "\tat com.databricks.service.SparkClientManager.$anonfun$getForSession$3(SparkClient.scala:386)\n",
      "\tat org.sparkproject.guava.cache.LocalCache$LocalManualCache$1.load(LocalCache.java:4724)\n",
      "\tat org.sparkproject.guava.cache.LocalCache$LoadingValueReference.loadFuture(LocalCache.java:3522)\n",
      "\tat org.sparkproject.guava.cache.LocalCache$Segment.loadSync(LocalCache.java:2315)\n",
      "\t... 22 more\n"
     ]
    },
    {
     "ename": "Py4JJavaError",
     "evalue": "An error occurred while calling o33.json.\n: org.apache.http.client.HttpResponseException: status code: 400, reason phrase: {\"error_code\":\"INVALID_PARAMETER_VALUE\",\"message\":\"Cluster 0722-070458-t24q3fgi does not exist\"}\n\tat com.databricks.service.DBAPIClient.get(DBAPIClient.scala:101)\n\tat com.databricks.service.DBAPIClient.jsonGet(DBAPIClient.scala:125)\n\tat com.databricks.service.SparkServiceDebugHelper$.getClusterWithValidation(SparkServiceDebugHelper.scala:163)\n\tat com.databricks.service.SparkServiceRPCClient.waitUntilClusterRunning(SparkServiceRPCClient.scala:162)\n\tat com.databricks.service.SparkServiceRPCClient.init(SparkServiceRPCClient.scala:143)\n\tat com.databricks.service.SparkServiceRPCClientStub.<init>(SparkServiceRPCClientStub.scala:134)\n\tat com.databricks.service.SparkServiceRPCClient.<init>(SparkServiceRPCClient.scala:57)\n\tat com.databricks.service.SparkClientManager.$anonfun$getForSession$3(SparkClient.scala:386)\n\tat org.sparkproject.guava.cache.LocalCache$LocalManualCache$1.load(LocalCache.java:4724)\n\tat org.sparkproject.guava.cache.LocalCache$LoadingValueReference.loadFuture(LocalCache.java:3522)\n\tat org.sparkproject.guava.cache.LocalCache$Segment.loadSync(LocalCache.java:2315)\n\tat org.sparkproject.guava.cache.LocalCache$Segment.lockedGetOrLoad(LocalCache.java:2278)\n\tat org.sparkproject.guava.cache.LocalCache$Segment.get(LocalCache.java:2193)\n\tat org.sparkproject.guava.cache.LocalCache.get(LocalCache.java:3932)\n\tat org.sparkproject.guava.cache.LocalCache$LocalManualCache.get(LocalCache.java:4721)\n\tat com.databricks.service.SparkClientManager.liftedTree1$1(SparkClient.scala:377)\n\tat com.databricks.service.SparkClientManager.getForSession(SparkClient.scala:376)\n\tat com.databricks.service.SparkClientManager.getForSession$(SparkClient.scala:353)\n\tat com.databricks.service.SparkClientManager$.getForSession(SparkClient.scala:401)\n\tat org.apache.spark.sql.DataFrameReader.load(DataFrameReader.scala:292)\n\tat org.apache.spark.sql.DataFrameReader.json(DataFrameReader.scala:490)\n\tat sun.reflect.NativeMethodAccessorImpl.invoke0(Native Method)\n\tat sun.reflect.NativeMethodAccessorImpl.invoke(NativeMethodAccessorImpl.java:62)\n\tat sun.reflect.DelegatingMethodAccessorImpl.invoke(DelegatingMethodAccessorImpl.java:43)\n\tat java.lang.reflect.Method.invoke(Method.java:498)\n\tat py4j.reflection.MethodInvoker.invoke(MethodInvoker.java:244)\n\tat py4j.reflection.ReflectionEngine.invoke(ReflectionEngine.java:380)\n\tat py4j.Gateway.invoke(Gateway.java:295)\n\tat py4j.commands.AbstractCommand.invokeMethod(AbstractCommand.java:132)\n\tat py4j.commands.CallCommand.execute(CallCommand.java:79)\n\tat py4j.ClientServerConnection.waitForCommands(ClientServerConnection.java:195)\n\tat py4j.ClientServerConnection.run(ClientServerConnection.java:115)\n\tat java.lang.Thread.run(Thread.java:750)\n",
     "output_type": "error",
     "traceback": [
      "\u001b[0;31m---------------------------------------------------------------------------\u001b[0m",
      "\u001b[0;31mPy4JJavaError\u001b[0m                             Traceback (most recent call last)",
      "Cell \u001b[0;32mIn [6], line 1\u001b[0m\n\u001b[0;32m----> 1\u001b[0m df \u001b[38;5;241m=\u001b[39m \u001b[43mspark\u001b[49m\u001b[38;5;241;43m.\u001b[39;49m\u001b[43mread\u001b[49m\u001b[38;5;241;43m.\u001b[39;49m\u001b[43mjson\u001b[49m\u001b[43m(\u001b[49m\u001b[38;5;124;43m\"\u001b[39;49m\u001b[38;5;124;43mdummy_data.json\u001b[39;49m\u001b[38;5;124;43m\"\u001b[39;49m\u001b[43m)\u001b[49m\n",
      "File \u001b[0;32m~/Databricks/datagen/.direnv/python-3.8.12/lib/python3.8/site-packages/pyspark/sql/readwriter.py:229\u001b[0m, in \u001b[0;36mDataFrameReader.json\u001b[0;34m(self, path, schema, primitivesAsString, prefersDecimal, allowComments, allowUnquotedFieldNames, allowSingleQuotes, allowNumericLeadingZero, allowBackslashEscapingAnyCharacter, mode, columnNameOfCorruptRecord, dateFormat, timestampFormat, multiLine, allowUnquotedControlChars, lineSep, samplingRatio, dropFieldIfAllNull, encoding, locale, pathGlobFilter, recursiveFileLookup, allowNonNumericNumbers, modifiedBefore, modifiedAfter)\u001b[0m\n\u001b[1;32m    227\u001b[0m     path \u001b[39m=\u001b[39m [path]\n\u001b[1;32m    228\u001b[0m \u001b[39mif\u001b[39;00m \u001b[39mtype\u001b[39m(path) \u001b[39m==\u001b[39m \u001b[39mlist\u001b[39m:\n\u001b[0;32m--> 229\u001b[0m     \u001b[39mreturn\u001b[39;00m \u001b[39mself\u001b[39m\u001b[39m.\u001b[39m_df(\u001b[39mself\u001b[39;49m\u001b[39m.\u001b[39;49m_jreader\u001b[39m.\u001b[39;49mjson(\u001b[39mself\u001b[39;49m\u001b[39m.\u001b[39;49m_spark\u001b[39m.\u001b[39;49m_sc\u001b[39m.\u001b[39;49m_jvm\u001b[39m.\u001b[39;49mPythonUtils\u001b[39m.\u001b[39;49mtoSeq(path)))\n\u001b[1;32m    230\u001b[0m \u001b[39melif\u001b[39;00m \u001b[39misinstance\u001b[39m(path, RDD):\n\u001b[1;32m    231\u001b[0m     \u001b[39mdef\u001b[39;00m \u001b[39mfunc\u001b[39m(iterator):\n",
      "File \u001b[0;32m~/Databricks/datagen/.direnv/python-3.8.12/lib/python3.8/site-packages/py4j/java_gateway.py:1304\u001b[0m, in \u001b[0;36mJavaMember.__call__\u001b[0;34m(self, *args)\u001b[0m\n\u001b[1;32m   1298\u001b[0m command \u001b[39m=\u001b[39m proto\u001b[39m.\u001b[39mCALL_COMMAND_NAME \u001b[39m+\u001b[39m\\\n\u001b[1;32m   1299\u001b[0m     \u001b[39mself\u001b[39m\u001b[39m.\u001b[39mcommand_header \u001b[39m+\u001b[39m\\\n\u001b[1;32m   1300\u001b[0m     args_command \u001b[39m+\u001b[39m\\\n\u001b[1;32m   1301\u001b[0m     proto\u001b[39m.\u001b[39mEND_COMMAND_PART\n\u001b[1;32m   1303\u001b[0m answer \u001b[39m=\u001b[39m \u001b[39mself\u001b[39m\u001b[39m.\u001b[39mgateway_client\u001b[39m.\u001b[39msend_command(command)\n\u001b[0;32m-> 1304\u001b[0m return_value \u001b[39m=\u001b[39m get_return_value(\n\u001b[1;32m   1305\u001b[0m     answer, \u001b[39mself\u001b[39;49m\u001b[39m.\u001b[39;49mgateway_client, \u001b[39mself\u001b[39;49m\u001b[39m.\u001b[39;49mtarget_id, \u001b[39mself\u001b[39;49m\u001b[39m.\u001b[39;49mname)\n\u001b[1;32m   1307\u001b[0m \u001b[39mfor\u001b[39;00m temp_arg \u001b[39min\u001b[39;00m temp_args:\n\u001b[1;32m   1308\u001b[0m     temp_arg\u001b[39m.\u001b[39m_detach()\n",
      "File \u001b[0;32m~/Databricks/datagen/.direnv/python-3.8.12/lib/python3.8/site-packages/pyspark/sql/utils.py:117\u001b[0m, in \u001b[0;36mcapture_sql_exception.<locals>.deco\u001b[0;34m(*a, **kw)\u001b[0m\n\u001b[1;32m    115\u001b[0m \u001b[39mdef\u001b[39;00m \u001b[39mdeco\u001b[39m(\u001b[39m*\u001b[39ma, \u001b[39m*\u001b[39m\u001b[39m*\u001b[39mkw):\n\u001b[1;32m    116\u001b[0m     \u001b[39mtry\u001b[39;00m:\n\u001b[0;32m--> 117\u001b[0m         \u001b[39mreturn\u001b[39;00m f(\u001b[39m*\u001b[39;49ma, \u001b[39m*\u001b[39;49m\u001b[39m*\u001b[39;49mkw)\n\u001b[1;32m    118\u001b[0m     \u001b[39mexcept\u001b[39;00m py4j\u001b[39m.\u001b[39mprotocol\u001b[39m.\u001b[39mPy4JJavaError \u001b[39mas\u001b[39;00m e:\n\u001b[1;32m    119\u001b[0m         converted \u001b[39m=\u001b[39m convert_exception(e\u001b[39m.\u001b[39mjava_exception)\n",
      "File \u001b[0;32m~/Databricks/datagen/.direnv/python-3.8.12/lib/python3.8/site-packages/py4j/protocol.py:326\u001b[0m, in \u001b[0;36mget_return_value\u001b[0;34m(answer, gateway_client, target_id, name)\u001b[0m\n\u001b[1;32m    324\u001b[0m value \u001b[39m=\u001b[39m OUTPUT_CONVERTER[\u001b[39mtype\u001b[39m](answer[\u001b[39m2\u001b[39m:], gateway_client)\n\u001b[1;32m    325\u001b[0m \u001b[39mif\u001b[39;00m answer[\u001b[39m1\u001b[39m] \u001b[39m==\u001b[39m REFERENCE_TYPE:\n\u001b[0;32m--> 326\u001b[0m     \u001b[39mraise\u001b[39;00m Py4JJavaError(\n\u001b[1;32m    327\u001b[0m         \u001b[39m\"\u001b[39m\u001b[39mAn error occurred while calling \u001b[39m\u001b[39m{0}\u001b[39;00m\u001b[39m{1}\u001b[39;00m\u001b[39m{2}\u001b[39;00m\u001b[39m.\u001b[39m\u001b[39m\\n\u001b[39;00m\u001b[39m\"\u001b[39m\u001b[39m.\u001b[39m\n\u001b[1;32m    328\u001b[0m         \u001b[39mformat\u001b[39m(target_id, \u001b[39m\"\u001b[39m\u001b[39m.\u001b[39m\u001b[39m\"\u001b[39m, name), value)\n\u001b[1;32m    329\u001b[0m \u001b[39melse\u001b[39;00m:\n\u001b[1;32m    330\u001b[0m     \u001b[39mraise\u001b[39;00m Py4JError(\n\u001b[1;32m    331\u001b[0m         \u001b[39m\"\u001b[39m\u001b[39mAn error occurred while calling \u001b[39m\u001b[39m{0}\u001b[39;00m\u001b[39m{1}\u001b[39;00m\u001b[39m{2}\u001b[39;00m\u001b[39m. Trace:\u001b[39m\u001b[39m\\n\u001b[39;00m\u001b[39m{3}\u001b[39;00m\u001b[39m\\n\u001b[39;00m\u001b[39m\"\u001b[39m\u001b[39m.\u001b[39m\n\u001b[1;32m    332\u001b[0m         \u001b[39mformat\u001b[39m(target_id, \u001b[39m\"\u001b[39m\u001b[39m.\u001b[39m\u001b[39m\"\u001b[39m, name, value))\n",
      "\u001b[0;31mPy4JJavaError\u001b[0m: An error occurred while calling o33.json.\n: org.apache.http.client.HttpResponseException: status code: 400, reason phrase: {\"error_code\":\"INVALID_PARAMETER_VALUE\",\"message\":\"Cluster 0722-070458-t24q3fgi does not exist\"}\n\tat com.databricks.service.DBAPIClient.get(DBAPIClient.scala:101)\n\tat com.databricks.service.DBAPIClient.jsonGet(DBAPIClient.scala:125)\n\tat com.databricks.service.SparkServiceDebugHelper$.getClusterWithValidation(SparkServiceDebugHelper.scala:163)\n\tat com.databricks.service.SparkServiceRPCClient.waitUntilClusterRunning(SparkServiceRPCClient.scala:162)\n\tat com.databricks.service.SparkServiceRPCClient.init(SparkServiceRPCClient.scala:143)\n\tat com.databricks.service.SparkServiceRPCClientStub.<init>(SparkServiceRPCClientStub.scala:134)\n\tat com.databricks.service.SparkServiceRPCClient.<init>(SparkServiceRPCClient.scala:57)\n\tat com.databricks.service.SparkClientManager.$anonfun$getForSession$3(SparkClient.scala:386)\n\tat org.sparkproject.guava.cache.LocalCache$LocalManualCache$1.load(LocalCache.java:4724)\n\tat org.sparkproject.guava.cache.LocalCache$LoadingValueReference.loadFuture(LocalCache.java:3522)\n\tat org.sparkproject.guava.cache.LocalCache$Segment.loadSync(LocalCache.java:2315)\n\tat org.sparkproject.guava.cache.LocalCache$Segment.lockedGetOrLoad(LocalCache.java:2278)\n\tat org.sparkproject.guava.cache.LocalCache$Segment.get(LocalCache.java:2193)\n\tat org.sparkproject.guava.cache.LocalCache.get(LocalCache.java:3932)\n\tat org.sparkproject.guava.cache.LocalCache$LocalManualCache.get(LocalCache.java:4721)\n\tat com.databricks.service.SparkClientManager.liftedTree1$1(SparkClient.scala:377)\n\tat com.databricks.service.SparkClientManager.getForSession(SparkClient.scala:376)\n\tat com.databricks.service.SparkClientManager.getForSession$(SparkClient.scala:353)\n\tat com.databricks.service.SparkClientManager$.getForSession(SparkClient.scala:401)\n\tat org.apache.spark.sql.DataFrameReader.load(DataFrameReader.scala:292)\n\tat org.apache.spark.sql.DataFrameReader.json(DataFrameReader.scala:490)\n\tat sun.reflect.NativeMethodAccessorImpl.invoke0(Native Method)\n\tat sun.reflect.NativeMethodAccessorImpl.invoke(NativeMethodAccessorImpl.java:62)\n\tat sun.reflect.DelegatingMethodAccessorImpl.invoke(DelegatingMethodAccessorImpl.java:43)\n\tat java.lang.reflect.Method.invoke(Method.java:498)\n\tat py4j.reflection.MethodInvoker.invoke(MethodInvoker.java:244)\n\tat py4j.reflection.ReflectionEngine.invoke(ReflectionEngine.java:380)\n\tat py4j.Gateway.invoke(Gateway.java:295)\n\tat py4j.commands.AbstractCommand.invokeMethod(AbstractCommand.java:132)\n\tat py4j.commands.CallCommand.execute(CallCommand.java:79)\n\tat py4j.ClientServerConnection.waitForCommands(ClientServerConnection.java:195)\n\tat py4j.ClientServerConnection.run(ClientServerConnection.java:115)\n\tat java.lang.Thread.run(Thread.java:750)\n"
     ]
    }
   ],
   "source": [
    "df = spark.read.json(\"dummy_data.json\")"
   ]
  },
  {
   "cell_type": "code",
   "execution_count": null,
   "metadata": {},
   "outputs": [],
   "source": []
  }
 ],
 "metadata": {
  "kernelspec": {
   "display_name": "Python 3.8.12 ('python-3.8.12': venv)",
   "language": "python",
   "name": "python3"
  },
  "language_info": {
   "codemirror_mode": {
    "name": "ipython",
    "version": 3
   },
   "file_extension": ".py",
   "mimetype": "text/x-python",
   "name": "python",
   "nbconvert_exporter": "python",
   "pygments_lexer": "ipython3",
   "version": "3.8.12"
  },
  "orig_nbformat": 4,
  "vscode": {
   "interpreter": {
    "hash": "e6762bd7c02a218f1f72f073e9f4c63283a4f323ac0f1260d6d8a66004f6521a"
   }
  }
 },
 "nbformat": 4,
 "nbformat_minor": 2
}
