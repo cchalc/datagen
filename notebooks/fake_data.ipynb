{
 "cells": [
  {
   "cell_type": "markdown",
   "metadata": {},
   "source": [
    "Create fake data using pydantic and faker"
   ]
  },
  {
   "cell_type": "code",
   "execution_count": 3,
   "metadata": {},
   "outputs": [],
   "source": [
    "from __future__ import annotations\n",
    "from typing import Any\n",
    "from pydantic import BaseModel"
   ]
  },
  {
   "cell_type": "code",
   "execution_count": 2,
   "metadata": {},
   "outputs": [
    {
     "name": "stdout",
     "output_type": "stream",
     "text": [
      "{'name': 'possimus', 'id': 310}\n"
     ]
    }
   ],
   "source": [
    "from pydantic import BaseModel\n",
    "from jsf import JSF\n",
    "\n",
    "class Person(BaseModel):\n",
    "    name: str\n",
    "    id: int\n",
    "\n",
    "faker = JSF(Person.schema())\n",
    "print(faker.generate())"
   ]
  },
  {
   "cell_type": "code",
   "execution_count": 5,
   "metadata": {},
   "outputs": [
    {
     "name": "stdout",
     "output_type": "stream",
     "text": [
      "{\n",
      "  \"title\": \"Sensor\"\n",
      "}\n"
     ]
    }
   ],
   "source": [
    "class Sensor(BaseModel):\n",
    "    __root__: Any\n",
    "\n",
    "print(Sensor.schema_json(indent=2))\n",
    "# faker = JSF(Sensor.schema())\n",
    "# print(faker.generate())"
   ]
  },
  {
   "cell_type": "code",
   "execution_count": null,
   "metadata": {},
   "outputs": [],
   "source": []
  }
 ],
 "metadata": {
  "kernelspec": {
   "display_name": "Python 3.8.12 ('python-3.8.12': venv)",
   "language": "python",
   "name": "python3"
  },
  "language_info": {
   "codemirror_mode": {
    "name": "ipython",
    "version": 3
   },
   "file_extension": ".py",
   "mimetype": "text/x-python",
   "name": "python",
   "nbconvert_exporter": "python",
   "pygments_lexer": "ipython3",
   "version": "3.8.12"
  },
  "orig_nbformat": 4,
  "vscode": {
   "interpreter": {
    "hash": "e6762bd7c02a218f1f72f073e9f4c63283a4f323ac0f1260d6d8a66004f6521a"
   }
  }
 },
 "nbformat": 4,
 "nbformat_minor": 2
}
