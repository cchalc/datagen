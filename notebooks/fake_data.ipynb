{
 "cells": [
  {
   "cell_type": "markdown",
   "metadata": {},
   "source": [
    "Create fake data using pydantic and faker"
   ]
  },
  {
   "cell_type": "code",
   "execution_count": 58,
   "metadata": {},
   "outputs": [],
   "source": [
    "from __future__ import annotations\n",
    "from typing import Any, List\n",
    "from pydantic import BaseModel\n"
   ]
  },
  {
   "cell_type": "code",
   "execution_count": 57,
   "metadata": {},
   "outputs": [
    {
     "name": "stdout",
     "output_type": "stream",
     "text": [
      "{'name': 'reiciendis veniam odit officiis possimus nobis', 'id': 2801}\n"
     ]
    }
   ],
   "source": [
    "from pydantic import BaseModel\n",
    "from jsf import JSF\n",
    "\n",
    "\n",
    "class Person(BaseModel):\n",
    "    name: str\n",
    "    id: int\n",
    "\n",
    "\n",
    "faker = JSF(Person.schema())\n",
    "print(faker.generate())\n"
   ]
  },
  {
   "cell_type": "code",
   "execution_count": 10,
   "metadata": {},
   "outputs": [
    {
     "name": "stdout",
     "output_type": "stream",
     "text": [
      "{\n",
      "  \"title\": \"Sensor\"\n",
      "}\n"
     ]
    }
   ],
   "source": [
    "class Sensor(BaseModel):\n",
    "    __root__: Any\n",
    "\n",
    "\n",
    "print(Sensor.schema_json(indent=2))\n",
    "# faker = JSF(Sensor.schema())\n",
    "# print(faker.generate())\n"
   ]
  },
  {
   "cell_type": "markdown",
   "metadata": {},
   "source": [
    "Creating the JSON data by hand"
   ]
  },
  {
   "cell_type": "code",
   "execution_count": 18,
   "metadata": {},
   "outputs": [],
   "source": [
    "import datetime\n",
    "from datetime import date, timedelta\n",
    "import random\n",
    "import json\n",
    "from faker import Faker"
   ]
  },
  {
   "cell_type": "code",
   "execution_count": 44,
   "metadata": {},
   "outputs": [],
   "source": [
    "\n",
    "# config and constraints\n",
    "Faker.seed(0)\n",
    "fake = Faker()\n",
    "\n",
    "start_date = date(2022, 1, 1)\n",
    "num_days = 25\n",
    "dates = [start_date + timedelta(n) for n in range(num_days)]\n",
    "end_date = date(2022, 1, num_days)\n",
    "num_customers = 20\n",
    "\n",
    "import pytz\n",
    "tz_list = pytz.all_timezones\n",
    "can_tz = list(filter(lambda k: 'Canada' in k, tz_list))"
   ]
  },
  {
   "cell_type": "code",
   "execution_count": 50,
   "metadata": {},
   "outputs": [
    {
     "data": {
      "text/plain": [
       "'{\"GPSData\": [{\"SnappedLongitude\": -13.41883748, \"GPSLongitude\": -154.557188, \"TimeStamp\": \"1982-10-17T19:08:30\", \"GPSHeading\": 280, \"GPSAltitude\": 493, \"GPSSpeed\": 21.51602869361, \"Deviation\": -5180.25784375797, \"FromNodeID\": 74357376203595.9, \"WayID\": 3494596985436.38, \"SnappedLatitude\": 87.23884, \"ToNodeID\": -382601465276.35, \"HorizontalAccuracy\": 7421, \"GPSLatitude\": -60.4513415173415, \"VerticalAccuracy\": 17}], \"DataAlgorithmVersion\": \"HQHfiScknqtDSSXFzHxw\", \"TripID\": 8813, \"StartTime\": \"1982-02-18T09:07:28\", \"CompanyID\": \"DMGMN\", \"StartTimeZone\": \"Canada/Pacific\", \"DriverID\": \"kEahrPLrGciZpuCpymcj\", \"EndTime\": \"2005-08-05T11:36:52\", \"EndTimeZone\": \"Canada/Pacific\"}'"
      ]
     },
     "execution_count": 50,
     "metadata": {},
     "output_type": "execute_result"
    }
   ],
   "source": [
    "# define json object\n",
    "jsonObject={\n",
    "  \"GPSData\": [\n",
    "    {\n",
    "      \"SnappedLongitude\": fake.pyfloat(min_value=-180, max_value=180),\n",
    "      \"GPSLongitude\": fake.pyfloat(min_value=-180, max_value=180),\n",
    "      \"TimeStamp\": fake.iso8601(),\n",
    "      \"GPSHeading\": fake.random_int(0, 360),\n",
    "      \"GPSAltitude\": fake.random_int(0, 500),\n",
    "      \"GPSSpeed\": fake.pyfloat(min_value=0, max_value=250),\n",
    "      \"Deviation\": fake.pyfloat(),\n",
    "      \"FromNodeID\": fake.pyfloat(),\n",
    "      \"WayID\": fake.pyfloat(),\n",
    "      \"SnappedLatitude\": fake.pyfloat(min_value=-90, max_value=90),\n",
    "      \"ToNodeID\": fake.pyfloat(),\n",
    "      \"HorizontalAccuracy\": fake.pyint(),\n",
    "      \"GPSLatitude\": fake.pyfloat(min_value=-90, max_value=90),\n",
    "      \"VerticalAccuracy\": fake.pyint(min_value=0, max_value=100),\n",
    "    }\n",
    "  ],\n",
    "  \"DataAlgorithmVersion\": fake.pystr(),\n",
    "  \"TripID\": fake.unique.random_int(),\n",
    "  \"StartTime\": fake.iso8601(),\n",
    "  \"CompanyID\": ''.join(random.choice('abcdefghijklmnopqrtzusv') for i in range(5)).upper(),\n",
    "  \"StartTimeZone\": random.choice(can_tz),\n",
    "  \"DriverID\": fake.pystr(),\n",
    "  \"EndTime\": fake.iso8601(),\n",
    "  \"EndTimeZone\": random.choice(can_tz),\n",
    "}\n",
    "json.dumps(jsonObject)"
   ]
  },
  {
   "cell_type": "code",
   "execution_count": 59,
   "metadata": {},
   "outputs": [],
   "source": [
    "# datamodel-codegen --input sensor_dummy_data.json --input-file-type json --output model_fromJSON.py\n",
    "\n",
    "class GPSDatum(BaseModel):\n",
    "    SnappedLongitude: float\n",
    "    GPSLongitude: float\n",
    "    TimeStamp: str\n",
    "    GPSHeading: int\n",
    "    GPSAltitude: int\n",
    "    GPSSpeed: float\n",
    "    Deviation: float\n",
    "    FromNodeID: float\n",
    "    WayID: float\n",
    "    SnappedLatitude: float\n",
    "    ToNodeID: float\n",
    "    HorizontalAccuracy: int\n",
    "    GPSLatitude: float\n",
    "    VerticalAccuracy: int\n",
    "\n",
    "\n",
    "class Model(BaseModel):\n",
    "    GPSData: List[GPSDatum]\n",
    "    DataAlgorithmVersion: str\n",
    "    TripID: int\n",
    "    StartTime: str\n",
    "    CompanyID: str\n",
    "    StartTimeZone: str\n",
    "    DriverID: str\n",
    "    EndTime: str\n",
    "    EndTimeZone: str"
   ]
  },
  {
   "cell_type": "code",
   "execution_count": 60,
   "metadata": {},
   "outputs": [
    {
     "name": "stdout",
     "output_type": "stream",
     "text": [
      "{\"title\": \"Model\", \"type\": \"object\", \"properties\": {\"GPSData\": {\"title\": \"Gpsdata\", \"type\": \"array\", \"items\": {\"$ref\": \"#/definitions/GPSDatum\"}}, \"DataAlgorithmVersion\": {\"title\": \"Dataalgorithmversion\", \"type\": \"string\"}, \"TripID\": {\"title\": \"Tripid\", \"type\": \"integer\"}, \"StartTime\": {\"title\": \"Starttime\", \"type\": \"string\"}, \"CompanyID\": {\"title\": \"Companyid\", \"type\": \"string\"}, \"StartTimeZone\": {\"title\": \"Starttimezone\", \"type\": \"string\"}, \"DriverID\": {\"title\": \"Driverid\", \"type\": \"string\"}, \"EndTime\": {\"title\": \"Endtime\", \"type\": \"string\"}, \"EndTimeZone\": {\"title\": \"Endtimezone\", \"type\": \"string\"}}, \"required\": [\"GPSData\", \"DataAlgorithmVersion\", \"TripID\", \"StartTime\", \"CompanyID\", \"StartTimeZone\", \"DriverID\", \"EndTime\", \"EndTimeZone\"], \"definitions\": {\"GPSDatum\": {\"title\": \"GPSDatum\", \"type\": \"object\", \"properties\": {\"SnappedLongitude\": {\"title\": \"Snappedlongitude\", \"type\": \"number\"}, \"GPSLongitude\": {\"title\": \"Gpslongitude\", \"type\": \"number\"}, \"TimeStamp\": {\"title\": \"Timestamp\", \"type\": \"string\"}, \"GPSHeading\": {\"title\": \"Gpsheading\", \"type\": \"integer\"}, \"GPSAltitude\": {\"title\": \"Gpsaltitude\", \"type\": \"integer\"}, \"GPSSpeed\": {\"title\": \"Gpsspeed\", \"type\": \"number\"}, \"Deviation\": {\"title\": \"Deviation\", \"type\": \"number\"}, \"FromNodeID\": {\"title\": \"Fromnodeid\", \"type\": \"number\"}, \"WayID\": {\"title\": \"Wayid\", \"type\": \"number\"}, \"SnappedLatitude\": {\"title\": \"Snappedlatitude\", \"type\": \"number\"}, \"ToNodeID\": {\"title\": \"Tonodeid\", \"type\": \"number\"}, \"HorizontalAccuracy\": {\"title\": \"Horizontalaccuracy\", \"type\": \"integer\"}, \"GPSLatitude\": {\"title\": \"Gpslatitude\", \"type\": \"number\"}, \"VerticalAccuracy\": {\"title\": \"Verticalaccuracy\", \"type\": \"integer\"}}, \"required\": [\"SnappedLongitude\", \"GPSLongitude\", \"TimeStamp\", \"GPSHeading\", \"GPSAltitude\", \"GPSSpeed\", \"Deviation\", \"FromNodeID\", \"WayID\", \"SnappedLatitude\", \"ToNodeID\", \"HorizontalAccuracy\", \"GPSLatitude\", \"VerticalAccuracy\"]}}}\n"
     ]
    }
   ],
   "source": [
    "print(Model.schema_json())"
   ]
  },
  {
   "cell_type": "code",
   "execution_count": 61,
   "metadata": {},
   "outputs": [
    {
     "name": "stdout",
     "output_type": "stream",
     "text": [
      "{'GPSData': [{'SnappedLongitude': 9676.0, 'GPSLongitude': 7710.0, 'TimeStamp': 'modi elit. officiis illum architecto quas veniam', 'GPSHeading': 8198, 'GPSAltitude': 289, 'GPSSpeed': 233.0, 'Deviation': 8122.0, 'FromNodeID': 89.0, 'WayID': 2503.0, 'SnappedLatitude': 4955.0, 'ToNodeID': 2659.0, 'HorizontalAccuracy': 9496, 'GPSLatitude': 6643.0, 'VerticalAccuracy': 4627}, {'SnappedLongitude': 2500.0, 'GPSLongitude': 7917.0, 'TimeStamp': 'molestias, adipisicing ipsum, magnam,', 'GPSHeading': 8970, 'GPSAltitude': 342, 'GPSSpeed': 3521.0, 'Deviation': 5470.0, 'FromNodeID': 7699.0, 'WayID': 5093.0, 'SnappedLatitude': 8735.0, 'ToNodeID': 5500.0, 'HorizontalAccuracy': 3614, 'GPSLatitude': 9252.0, 'VerticalAccuracy': 2870}, {'SnappedLongitude': 7474.0, 'GPSLongitude': 2095.0, 'TimeStamp': 'placeat', 'GPSHeading': 5748, 'GPSAltitude': 5893, 'GPSSpeed': 7982.0, 'Deviation': 6010.0, 'FromNodeID': 7325.0, 'WayID': 9590.0, 'SnappedLatitude': 8159.0, 'ToNodeID': 6254.0, 'HorizontalAccuracy': 7483, 'GPSLatitude': 3493.0, 'VerticalAccuracy': 7303}, {'SnappedLongitude': 7750.0, 'GPSLongitude': 3317.0, 'TimeStamp': 'veniam Lorem reprehenderit', 'GPSHeading': 9618, 'GPSAltitude': 4, 'GPSSpeed': 4779.0, 'Deviation': 3070.0, 'FromNodeID': 6675.0, 'WayID': 8629.0, 'SnappedLatitude': 3780.0, 'ToNodeID': 3886.0, 'HorizontalAccuracy': 1502, 'GPSLatitude': 7631.0, 'VerticalAccuracy': 9473}, {'SnappedLongitude': 4098.0, 'GPSLongitude': 1852.0, 'TimeStamp': 'modi', 'GPSHeading': 6697, 'GPSAltitude': 8666, 'GPSSpeed': 478.0, 'Deviation': 4108.0, 'FromNodeID': 6320.0, 'WayID': 989.0, 'SnappedLatitude': 1366.0, 'ToNodeID': 1726.0, 'HorizontalAccuracy': 9521, 'GPSLatitude': 476.0, 'VerticalAccuracy': 1920}], 'DataAlgorithmVersion': 'ipsum,', 'TripID': 7454, 'StartTime': 'Lorem magnam, reprehenderit repellendus quas odit', 'CompanyID': 'adipisicing ipsum ipsum architecto ipsum, dolor', 'StartTimeZone': 'placeat dolor reprehenderit illum dolor culpa!', 'DriverID': 'architecto placeat odit reprehenderit repellendus', 'EndTime': 'possimus Lorem illum sit amet libero elit. veniam', 'EndTimeZone': 'officiis accusantium veniam esse elit. sit quas'}\n"
     ]
    }
   ],
   "source": [
    "faker = JSF(Model.schema())\n",
    "print(faker.generate())"
   ]
  },
  {
   "cell_type": "code",
   "execution_count": null,
   "metadata": {},
   "outputs": [],
   "source": []
  }
 ],
 "metadata": {
  "kernelspec": {
   "display_name": "Python 3.8.12 ('python-3.8.12': venv)",
   "language": "python",
   "name": "python3"
  },
  "language_info": {
   "codemirror_mode": {
    "name": "ipython",
    "version": 3
   },
   "file_extension": ".py",
   "mimetype": "text/x-python",
   "name": "python",
   "nbconvert_exporter": "python",
   "pygments_lexer": "ipython3",
   "version": "3.8.12"
  },
  "orig_nbformat": 4,
  "vscode": {
   "interpreter": {
    "hash": "e6762bd7c02a218f1f72f073e9f4c63283a4f323ac0f1260d6d8a66004f6521a"
   }
  }
 },
 "nbformat": 4,
 "nbformat_minor": 2
}
